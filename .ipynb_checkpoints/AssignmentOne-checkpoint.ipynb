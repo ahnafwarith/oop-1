{
 "cells": [
  {
   "cell_type": "markdown",
   "id": "a83ebe5c",
   "metadata": {},
   "source": [
    "# String"
   ]
  },
  {
   "cell_type": "raw",
   "id": "ee8e6d62",
   "metadata": {},
   "source": [
    "1.From a given string, print the string in all uppercase if the number ofuppercase\n",
    "letters is more than lowercase letters. Otherwise, if lowercase is greater or equal\n",
    "to uppercase letters, print all lowercase. The inputs will contain letters (A-Z, a-z)\n",
    "only.\n",
    "Sample Input Sample Output\n",
    "HOusE HOUSE\n",
    "ApplE apple\n",
    "BaNaNa banana"
   ]
  },
  {
   "cell_type": "code",
   "execution_count": 9,
   "id": "636406af",
   "metadata": {},
   "outputs": [
    {
     "name": "stdout",
     "output_type": "stream",
     "text": [
      "apple\n"
     ]
    }
   ],
   "source": [
    "givStr = \"ApplE\"\n",
    "count1 = 0\n",
    "count2 = 0\n",
    "for i in givStr:\n",
    "    if (97<=ord(i)<=122):\n",
    "        count1 += 1\n",
    "    if (65<=ord(i)<=90):\n",
    "        count2 += 1\n",
    "if (count1 >= count2):\n",
    "    print(givStr.lower())\n",
    "else:\n",
    "    print(givStr.upper())"
   ]
  },
  {
   "cell_type": "raw",
   "id": "39230f8d",
   "metadata": {},
   "source": [
    "\n",
    "2.Given a string, print whether it is a number, word or mixed with digit andletters.\n",
    "If all the characters are numeric values, print NUMBER. If they are all letters,\n",
    "print WORD. If it is mixed, print MIXED.\n",
    "Sample Input Sample Output\n",
    "213213 NUMBER\n",
    "jhg231j213 MIXED\n",
    "Hello WORD"
   ]
  },
  {
   "cell_type": "code",
   "execution_count": 16,
   "id": "8764fd80",
   "metadata": {},
   "outputs": [
    {
     "data": {
      "text/plain": [
       "'WORD'"
      ]
     },
     "execution_count": 16,
     "metadata": {},
     "output_type": "execute_result"
    }
   ],
   "source": [
    "def checker (givStr):\n",
    "    status = \"\"\n",
    "    for i in givStr:\n",
    "        if(65<=ord(i)<=90 or 97<=ord(i)<=122 and 48<ord(i)<57):\n",
    "            status = \"MIXED\"\n",
    "            return status\n",
    "    for i in givStr:\n",
    "        if (48<ord(i)<57):\n",
    "            status = \"NUMBER\"\n",
    "            return status\n",
    "    for i in givStr:\n",
    "        if(65<=ord(i)<=90 or 97<=ord(i)<=122):\n",
    "            status = \"WORD\"\n",
    "            return status\n",
    "checker('adbh')"
   ]
  },
  {
   "cell_type": "raw",
   "id": "db3d16e3",
   "metadata": {},
   "source": [
    "3.In a given string, there will be two uppercase letters in between some lowercase\n",
    "letters. Print the substring from the first uppercase letter to the last uppercase\n",
    "letter excluding them. If there are no letters in between them, print the word\n",
    "BLANK. It is guaranteed that there will be only two uppercase letters in the\n",
    "string.\n",
    "Sample Input Sample Output\n",
    "baNgladEsh glad\n",
    "coDIng BLANK"
   ]
  },
  {
   "cell_type": "code",
   "execution_count": 30,
   "id": "9947de28",
   "metadata": {},
   "outputs": [
    {
     "data": {
      "text/plain": [
       "'glad'"
      ]
     },
     "execution_count": 30,
     "metadata": {},
     "output_type": "execute_result"
    }
   ],
   "source": [
    "def checkerTwo (givStr):\n",
    "    container1 = []\n",
    "    for i in givStr:\n",
    "        if(65<=ord(i)<=90):\n",
    "            container1.append(givStr.index(i))\n",
    "    if (len(givStr[container1[0]+1:container1[1]:]))==0:\n",
    "        return 'BLANK'\n",
    "    return givStr[container1[0]+1:container1[1]:]\n",
    "checkerTwo('baNgladEsh')\n",
    "# isUpper --> State/Flag(True/False) with Not"
   ]
  },
  {
   "cell_type": "raw",
   "id": "f8d3377e",
   "metadata": {},
   "source": [
    "4.Create a string from two given strings by concatenating common characters of\n",
    "the given strings.\n",
    "Sample Input Sample Output\n",
    "harry, hermione hrrhr\n",
    "dean, tom Nothing in common."
   ]
  },
  {
   "cell_type": "code",
   "execution_count": 27,
   "id": "481dd080",
   "metadata": {},
   "outputs": [
    {
     "name": "stdout",
     "output_type": "stream",
     "text": [
      "3\n"
     ]
    }
   ],
   "source": []
  },
  {
   "cell_type": "raw",
   "id": "6af151df",
   "metadata": {},
   "source": [
    "5. Again, you have lost your USIS password!! You went to the registrar office\n",
    "and requested for a new password. This time, you need to follow some rules to\n",
    "set your password. Otherwise, they won't change it. The rules are\n",
    "At least one lowercase letter\n",
    "At least one uppercase letter\n",
    "At least one digit (0-9)\n",
    "At least one special character (_ , $ , #, @)\n",
    "Your task is to find whether a given password follows all those rules. If it breaks\n",
    "any rule, you have to print Lowercase Missing, Uppercase Missing, Digit Missing\n",
    "or Special Missing respective to the missing case. For more than one rule break,\n",
    "print all the rules that were broken (order doesn't matter). If the password is ok,\n",
    "print OK.\n",
    "Sample Input\n",
    "ohMyBR@CU\n",
    "ohmybracu\n",
    "OhMyBR@CU20\n",
    "Sample Output\n",
    "Digit missing\n",
    "Uppercase character missing, Digit missing, Special character missing\n",
    "OK"
   ]
  },
  {
   "cell_type": "code",
   "execution_count": null,
   "id": "27a7be69",
   "metadata": {},
   "outputs": [],
   "source": []
  },
  {
   "cell_type": "markdown",
   "id": "5ea3193f",
   "metadata": {},
   "source": [
    "# List"
   ]
  },
  {
   "cell_type": "raw",
   "id": "c86b486a",
   "metadata": {},
   "source": [
    "1. Write a python program which prints the frequency of the numbers that were given \n",
    "as input by the user. Stop taking input when you find the string “STOP”. Do not \n",
    "print the frequency of numbers that were not given as input.\n",
    "Sample Input\n",
    "10\n",
    "20\n",
    "20\n",
    "30\n",
    "10\n",
    "50\n",
    "90\n",
    "STOP\n",
    "Sample Output\n",
    "10 - 2 times\n",
    "20 - 2 times\n",
    "30 - 1 times\n",
    "50 - 1 times\n",
    "90 - 1 times"
   ]
  },
  {
   "cell_type": "code",
   "execution_count": null,
   "id": "2bdab969",
   "metadata": {},
   "outputs": [],
   "source": []
  },
  {
   "cell_type": "raw",
   "id": "f3f9b3bf",
   "metadata": {},
   "source": [
    "2. Write a python program that calculates the sum of N given lists and prints the highest\n",
    "sum and its respective list. Input starts with N and followed by N lists.\n",
    "Sample Input\n",
    "4\n",
    "1 2 3\n",
    "4 5 6\n",
    "10 11 12\n",
    "7 8 9\n",
    "Sample Output\n",
    "33\n",
    "[10, 11, 12]"
   ]
  },
  {
   "cell_type": "code",
   "execution_count": null,
   "id": "8d73681c",
   "metadata": {},
   "outputs": [],
   "source": []
  },
  {
   "cell_type": "raw",
   "id": "aa01eed5",
   "metadata": {},
   "source": [
    "3. Let there are N numbers in a list and that list is said to be a UB Jumper if the\n",
    "absolute values of the difference between the successive elements take on all the\n",
    "values 1 through N − 1. For example, 2 1 4 6 10 is a UB Jumper because the absolute\n",
    "differences between them are 1 3 2 4 which is all numbers from 1 to (5 - 1) or 4.\n",
    "Write a python program that takes a number sequence as input and prints\n",
    "whether it is a UB Jumper or Not UB Jumper. Input will stop after getting\n",
    "“STOP” as input. (Number order or absolute difference order doesn’t follow any\n",
    "sequence.)\n",
    "Sample Input\n",
    "1 4 2 3\n",
    "2 1 4 6 10\n",
    "1 4 2 -1 6\n",
    "STOP\n",
    "Sample Output\n",
    "UB Jumper\n",
    "UB Jumper\n",
    "Not UB Jumper"
   ]
  },
  {
   "cell_type": "code",
   "execution_count": null,
   "id": "09684ebe",
   "metadata": {},
   "outputs": [],
   "source": []
  },
  {
   "cell_type": "raw",
   "id": "c0631144",
   "metadata": {},
   "source": [
    "4. BRACU has n students who are regular competitive programmers. According \n",
    "to the ACM ICPC rules, each person can participate in the regional championship \n",
    "at most 5 times.\n",
    "The head of the BRACU ACM Chapter is recently gathering teams to participate \n",
    "in this championship. Each team must consist of exactly three people, at that, any \n",
    "person cannot be a member of two or more teams. What maximum number of teams \n",
    "can the head make if he wants each team to participate in the world championship \n",
    "with the same members at least k times?\n",
    "The first line of input contains two integers, n and k. The next line contains n \n",
    "integers: y1,y2, ...,yn (0≤ yi≤ 5), where yi shows the number of times the i-thperson \n",
    "participated in the ACM ICPC Regional.\n",
    "Write a python program that prints how many teams can be formed according to \n",
    "the above problem statement.\n",
    "Sample Input 1\n",
    "5 2\n",
    "0 4 5 1 0\n",
    "Sample Input 2\n",
    "6 4\n",
    "0 1 2 3 4 5\n",
    "Sample Input 3\n",
    "6 5\n",
    "0 0 0 0 0 0\n",
    "Sample Output 1\n",
    "1\n",
    "Sample Output 2\n",
    "0\n",
    "Sample Output 3\n",
    "2"
   ]
  },
  {
   "cell_type": "code",
   "execution_count": null,
   "id": "20a47575",
   "metadata": {},
   "outputs": [],
   "source": []
  },
  {
   "cell_type": "markdown",
   "id": "52f6bbe3",
   "metadata": {},
   "source": [
    "# Dictionary"
   ]
  },
  {
   "cell_type": "raw",
   "id": "732b9388",
   "metadata": {},
   "source": [
    "1. Write a Python program to combine two dictionaries into one by adding values for \n",
    "common keys. Input contains two comma separated dictionaries. Print the new \n",
    "dictionary and create a tuple which contains unique values in sorted order.\n",
    "Sample Input\n",
    "a: 100, b: 100, c: 200, d: 300\n",
    "a: 300, b: 200, d: 400, e: 200\n",
    "Sample Output\n",
    "{'a': 400, 'b': 300, 'c': 200,'d': 700, 'e': 200}\n",
    "Values: (200, 300, 400, 700)"
   ]
  },
  {
   "cell_type": "code",
   "execution_count": null,
   "id": "43200dca",
   "metadata": {},
   "outputs": [],
   "source": []
  },
  {
   "cell_type": "raw",
   "id": "d8f86714",
   "metadata": {},
   "source": [
    "2. Write a python program which prints the frequency of the numbers that were \n",
    "given as input by the user. Stop taking input when you find the string “STOP”.Do \n",
    "not print the frequency of numbers that were not given as input. Use a dictionary \n",
    "to solve the problem\n",
    "Sample Input\n",
    "10\n",
    "20\n",
    "20\n",
    "30\n",
    "10\n",
    "50\n",
    "90\n",
    "STOP\n",
    "Sample Output\n",
    "10 - 2 times\n",
    "20 - 2 times\n",
    "30 - 1 times\n",
    "50 - 1 times\n",
    "90 - 1 times"
   ]
  },
  {
   "cell_type": "code",
   "execution_count": null,
   "id": "38c1a712",
   "metadata": {},
   "outputs": [],
   "source": []
  },
  {
   "cell_type": "raw",
   "id": "d8d56126",
   "metadata": {},
   "source": [
    "3. Write python code to invert a dictionary. It should print a dictionary where the keys\n",
    "are values from the input dictionary and the values are lists of keys from the input\n",
    "dictionary having the same value. Make sure the program handles multiple same\n",
    "values.\n",
    "Sample Input\n",
    "key1 : value1, key2 : value2, key3 : value1\n",
    "Sample Output\n",
    "{\"value1\" : [\"key1\", \"key3\"], \"value2\" : [\"key2\"]}"
   ]
  },
  {
   "cell_type": "code",
   "execution_count": null,
   "id": "7f773c67",
   "metadata": {},
   "outputs": [],
   "source": [
    "givDic = {'key1' : 'value1', 'key2' : 'value2', 'key3' : 'value1'}\n",
    "outDic = {}\n",
    "for k,v in givDic.items():\n",
    "    if v in outDic.values():\n",
    "        outDic[v].append(k)\n",
    "    outDic[v] = [k]\n",
    "print(outDic)"
   ]
  },
  {
   "cell_type": "raw",
   "id": "a5d56765",
   "metadata": {},
   "source": [
    "3. You want to order Burger from Chillox through the FoodPanda App. You have to\n",
    "calculate the total price. Write a function which will take the name of the burger\n",
    "and place(Mohakhali/Outside of Mohakhali) as input. Use default argument\n",
    "technique for taking place input.\n",
    "Menu Price(Tk)\n",
    "BBQ Chicken Cheese Burger 250\n",
    "Beef Burger 170\n",
    "Naga Drums 200\n",
    "Hint: Total Price = meal_cost + delivery_charge +\n",
    "tax Note that:\n",
    "● If your home is in Mohakhali area then your delivery charge is 40\n",
    "taka else 60 taka\n",
    "● Your tax rate is 8% of your meal.\n",
    "Sample Input\n",
    "(‘Beef Burger’, ‘Dhanmondi’)\n",
    "(‘Beef Burger’)\n",
    "Sample Output\n",
    "243.6\n",
    "223.6"
   ]
  },
  {
   "cell_type": "code",
   "execution_count": 5,
   "id": "6017b3ac",
   "metadata": {},
   "outputs": [
    {
     "data": {
      "text/plain": [
       "243.6"
      ]
     },
     "execution_count": 5,
     "metadata": {},
     "output_type": "execute_result"
    }
   ],
   "source": [
    "def chilloxer (item,place='mohakhali'):\n",
    "    items = ['BBQ Chicken Cheese Burger', 'Beef Burger', 'Naga Drums']\n",
    "    if (item == items[0]):\n",
    "        price = 250\n",
    "    if (item == items[1]):\n",
    "        price = 170\n",
    "    if (item == items[2]):\n",
    "        price = 2000\n",
    "    total = price + ((8/100)*price)\n",
    "    if (place != 'mohakhali'):\n",
    "        total += 60\n",
    "    else:\n",
    "        total += 40\n",
    "    return total\n",
    "chilloxer('Beef Burger','Dhanmondi')"
   ]
  },
  {
   "cell_type": "code",
   "execution_count": null,
   "id": "3a83e468",
   "metadata": {},
   "outputs": [],
   "source": []
  },
  {
   "cell_type": "raw",
   "id": "d1076994",
   "metadata": {},
   "source": [
    "4. On some basic cell phones, text messages can be sent using the numeric keypad. \n",
    "Because each key has multiple letters associated with it, multiple key presses are \n",
    "needed for most letters. Pressing the number once generates the first character listed \n",
    "for that key. Pressing the number 2, 3, 4 or 5 times generates the second, third, fourth \n",
    "or fifth character.\n",
    "Key Symbols\n",
    "1 .,?!:\n",
    "2 ABC\n",
    "3 DEF\n",
    "4 GHI\n",
    "5 JKL\n",
    "6 MNO\n",
    "7 PQRS\n",
    "8 TUV\n",
    "9 WXYZ\n",
    "0 Space\n",
    "Write a program that displays the key presses needed for a message entered by the user. \n",
    "Construct a dictionary that maps from each letter or symbol to the key presses needed to \n",
    "generate it. Then use the dictionary to create and display the presses needed for the user’s \n",
    "message.\n",
    "Sample Input\n",
    "Hello, World!\n",
    "Sample Output\n",
    "4433555555666110966677755531111"
   ]
  },
  {
   "cell_type": "markdown",
   "id": "137dbd22",
   "metadata": {},
   "source": [
    "# Functions"
   ]
  },
  {
   "cell_type": "raw",
   "id": "08905b25",
   "metadata": {},
   "source": [
    "1. You are one of the gym instructors at AmiKenoMota. You decide to provide a \n",
    "customized diet and exercise plans based on the BMI of an individual. You\n",
    "measure the weight in kilograms and height in meters and calculate the BMI \n",
    "before a plan can be decided. Write a BMI function that takes in two values, \n",
    "weight in kg and height in cm and print the score along with the condition. (Make \n",
    "sure to convert cm into m before calculation)\n",
    "BMI(height, weight)\n",
    "𝐵𝑀𝐼 = 𝑘𝑔/𝑚2\n",
    "Based on the BMI score return the following output.\n",
    "● < 18.5- Underweight\n",
    "● 18.5 - 24.9 - Normal\n",
    "● 25 -30 - Overweight\n",
    "● > 30 – Obese\n",
    "Sample Input\n",
    "(175, 96)\n",
    "(152, 48)\n",
    "Sample Output\n",
    "Score is 31.3. You are Obese \n",
    "Score is 20.8. You are Normal"
   ]
  },
  {
   "cell_type": "code",
   "execution_count": null,
   "id": "41631fac",
   "metadata": {},
   "outputs": [],
   "source": []
  },
  {
   "cell_type": "raw",
   "id": "84024540",
   "metadata": {},
   "source": [
    "2. Write a function which will take 3 arguments minimum, maximum and \n",
    "divisor. You have to find all the numbers that are divisible by the divisor where \n",
    "minimum value is inclusive and maximum value is exclusive. Add all the \n",
    "numbers and return the value.\n",
    "Sample Input\n",
    "(0, 10, 2)\n",
    "(3, 16, 3)\n",
    "Sample Output\n",
    "20\n",
    "45"
   ]
  },
  {
   "cell_type": "code",
   "execution_count": null,
   "id": "fc599542",
   "metadata": {},
   "outputs": [],
   "source": []
  },
  {
   "cell_type": "raw",
   "id": "972c5d36",
   "metadata": {},
   "source": [
    "3. You want to order Burger from Chillox through the FoodPanda App. You have to \n",
    "calculate the total price. Write a function which will take the name of the burger\n",
    "and place(Mohakhali/Outside of Mohakhali) as input. Use default argument \n",
    "technique for taking plae input.\n",
    "Menu Price(Tk)\n",
    "BBQ Chicken Cheese Burger 250\n",
    "Beef Burger 170\n",
    "Naga Drums 200\n",
    "Hint: Total Price = meal_cost + delivery_charge + \n",
    "tax Note that:\n",
    "● If your home is in Mohakhali area then your delivery charge is 40\n",
    "taka else 60 taka\n",
    "● Your tax rate is 8% of your meal.\n",
    "Sample Input\n",
    "(‘Beef Burger’, ‘Dhanmondi’) \n",
    "(‘Beef Burger’)\n",
    "Sample Output\n",
    "243.6\n",
    "223.6"
   ]
  },
  {
   "cell_type": "code",
   "execution_count": null,
   "id": "f6d47503",
   "metadata": {},
   "outputs": [],
   "source": []
  },
  {
   "cell_type": "raw",
   "id": "3eb8fa90",
   "metadata": {},
   "source": [
    "4. A company named Sheba.xyz has recently moved from their old domain to a\n",
    "new domain. However, a lot of the company email addresses are still using the \n",
    "old one. Write a function in python that replaces this old domain with the new \n",
    "one in any outdated email addresses. Keep same if the email address contains the\n",
    "new domain. (Do not use builtin replace function)\n",
    "Firstly, define a “replace_domain” function which accepts three parameters\n",
    "*The email address to be checked\n",
    "*The new domain\n",
    "* The old domain (Use Default argument technique to handle this)\n",
    "Sample Input\n",
    "(‘alice@kaaj.com’, ‘sheba.xyz’, ‘kaaj.com’) \n",
    "(‘bob@sheba.xyz’, ‘sheba.xyz’)\n",
    "Sample Output \n",
    "Changed: alice@sheba.xyz\n",
    "Unchanged: bob@sheba.xyz"
   ]
  },
  {
   "cell_type": "code",
   "execution_count": null,
   "id": "87098066",
   "metadata": {},
   "outputs": [],
   "source": []
  },
  {
   "cell_type": "raw",
   "id": "28ded212",
   "metadata": {},
   "source": [
    "5. Write a programwhich checks whether a given string is a palindrome or not.\n",
    "Note: A palindrome is a word, phrase, or sequence that reads the same backward \n",
    "as forward. For palindrome, any spaces in middle are not considered and should \n",
    "be trimmed.\n",
    "Sample Input\n",
    "‘madam’ \n",
    "‘hello’ \n",
    "‘nurses run’\n",
    "Sample Output\n",
    "Palindrome\n",
    "Not a palindrome \n",
    "Palindrome"
   ]
  },
  {
   "cell_type": "code",
   "execution_count": null,
   "id": "e30fc191",
   "metadata": {},
   "outputs": [],
   "source": []
  }
 ],
 "metadata": {
  "kernelspec": {
   "display_name": "Python 3 (ipykernel)",
   "language": "python",
   "name": "python3"
  },
  "language_info": {
   "codemirror_mode": {
    "name": "ipython",
    "version": 3
   },
   "file_extension": ".py",
   "mimetype": "text/x-python",
   "name": "python",
   "nbconvert_exporter": "python",
   "pygments_lexer": "ipython3",
   "version": "3.9.7"
  }
 },
 "nbformat": 4,
 "nbformat_minor": 5
}
